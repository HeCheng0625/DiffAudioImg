{
 "cells": [
  {
   "cell_type": "code",
   "execution_count": 1,
   "metadata": {},
   "outputs": [],
   "source": [
    "from scipy.io.wavfile import read\n",
    "import torchaudio\n",
    "import torch\n",
    "from librosa.util import normalize\n",
    "from librosa.filters import mel as librosa_mel_fn\n",
    "import numpy as np\n",
    "import librosa\n",
    "import librosa.display\n",
    "import soundfile as sf\n",
    "import os\n",
    "from tqdm import tqdm\n",
    "import sys"
   ]
  },
  {
   "cell_type": "code",
   "execution_count": 2,
   "metadata": {},
   "outputs": [],
   "source": [
    "MAX_WAV_VALUE = 32768.0\n",
    "\n",
    "def load_wav(full_path):\n",
    "    sampling_rate, data = read(full_path)\n",
    "    return data, sampling_rate\n",
    "\n",
    "def dynamic_range_compression(x, C=1, clip_val=1e-5):\n",
    "    return np.log(np.clip(x, a_min=clip_val, a_max=None) * C)\n",
    "\n",
    "def dynamic_range_decompression(x, C=1):\n",
    "    return np.exp(x) / C\n",
    "\n",
    "def dynamic_range_compression_torch(x, C=1, clip_val=1e-5):\n",
    "    return torch.log(torch.clamp(x, min=clip_val) * C)\n",
    "\n",
    "def dynamic_range_decompression_torch(x, C=1):\n",
    "    return torch.exp(x) / C\n",
    "\n",
    "def spectral_normalize_torch(magnitudes):\n",
    "    output = dynamic_range_compression_torch(magnitudes)\n",
    "    return output\n",
    "\n",
    "def spectral_de_normalize_torch(magnitudes):\n",
    "    output = dynamic_range_decompression_torch(magnitudes)\n",
    "    return output\n",
    "\n",
    "mel_basis = {}\n",
    "hann_window = {}\n",
    "\n",
    "def mel_spectrogram(y, n_fft, num_mels, sampling_rate, hop_size, win_size, fmin, fmax, center=False):\n",
    "    if torch.min(y) < -1.:\n",
    "        print('min value is ', torch.min(y))\n",
    "    if torch.max(y) > 1.:\n",
    "        print('max value is ', torch.max(y))\n",
    "\n",
    "    global mel_basis, hann_window\n",
    "    if fmax not in mel_basis:\n",
    "        mel = librosa_mel_fn(sr=sampling_rate, n_fft=n_fft, n_mels=num_mels, fmin=fmin, fmax=fmax)\n",
    "        mel_basis[str(fmax)+'_'+str(y.device)] = torch.from_numpy(mel).float().to(y.device)\n",
    "        hann_window[str(y.device)] = torch.hann_window(win_size).to(y.device)\n",
    "\n",
    "    y = torch.nn.functional.pad(y.unsqueeze(1), (int((n_fft-hop_size)/2), int((n_fft-hop_size)/2)), mode='reflect')\n",
    "    y = y.squeeze(1)\n",
    "\n",
    "    spec = torch.stft(y, n_fft, hop_length=hop_size, win_length=win_size, window=hann_window[str(y.device)],\n",
    "                      center=center, pad_mode='reflect', normalized=False, onesided=True, return_complex=False)\n",
    "\n",
    "    spec = torch.sqrt(spec.pow(2).sum(-1)+(1e-9))\n",
    "\n",
    "    spec = torch.matmul(mel_basis[str(fmax)+'_'+str(y.device)], spec)\n",
    "    spec = spectral_normalize_torch(spec)\n",
    "\n",
    "    return spec"
   ]
  },
  {
   "cell_type": "code",
   "execution_count": 3,
   "metadata": {},
   "outputs": [],
   "source": [
    "vgg_audio_path = \"/blob/v-yuancwang/DiffAudioImg/VGGSound/data/vggsound/audio\"\n",
    "# vgg_video_path = \"/blob/v-yuancwang/DiffAudioImg/VGGSound/data/vggsound/video\""
   ]
  },
  {
   "cell_type": "code",
   "execution_count": 4,
   "metadata": {},
   "outputs": [],
   "source": [
    "vgg_audio_lists = os.listdir(vgg_audio_path)\n",
    "# vgg_video_lists = os.listdir(vgg_video_path)"
   ]
  },
  {
   "cell_type": "code",
   "execution_count": 5,
   "metadata": {},
   "outputs": [
    {
     "name": "stdout",
     "output_type": "stream",
     "text": [
      "177056\n",
      "['---g-f_I2yQ_1000_11000.flac', '--0PQM4-hqg_30000_40000.flac', '--56QUhyDQM_185000_195000.flac', '--8puiAGLhs_30000_40000.flac', '--96EN9NUQM_242000_252000.flac']\n"
     ]
    }
   ],
   "source": [
    "print(len(vgg_audio_lists))\n",
    "vgg_audio_lists.sort()\n",
    "print(vgg_audio_lists[:5])\n",
    "# print(len(vgg_video_lists))\n",
    "# vgg_video_lists.sort()\n",
    "# print(vgg_video_lists[:5])"
   ]
  },
  {
   "cell_type": "code",
   "execution_count": 9,
   "metadata": {},
   "outputs": [],
   "source": [
    "vgg_wav_path = \"/blob/v-yuancwang/DiffAudioImg/VGGSound/data/vggsound/wav\"\n",
    "vgg_mel_path = \"/blob/v-yuancwang/DiffAudioImg/VGGSound/data/vggsound/mel\""
   ]
  },
  {
   "cell_type": "code",
   "execution_count": 10,
   "metadata": {},
   "outputs": [],
   "source": [
    "vgg_wav_lists = os.listdir(vgg_wav_path)"
   ]
  },
  {
   "cell_type": "code",
   "execution_count": 12,
   "metadata": {},
   "outputs": [
    {
     "name": "stdout",
     "output_type": "stream",
     "text": [
      "['---g-f_I2yQ_1000_11000.wav', '--0PQM4-hqg_30000_40000.wav', '--56QUhyDQM_185000_195000.wav', '--8puiAGLhs_30000_40000.wav', '--96EN9NUQM_242000_252000.wav']\n"
     ]
    }
   ],
   "source": [
    "vgg_wav_lists.sort()\n",
    "print(vgg_wav_lists[:5])"
   ]
  },
  {
   "cell_type": "code",
   "execution_count": null,
   "metadata": {},
   "outputs": [],
   "source": [
    "for i in tqdm(range(len(vgg_wav_lists))):\n",
    "    wav, sr = librosa.load(os.path.join(vgg_wav_path, vgg_wav_lists[i]), sr=16000)\n",
    "    if len(wav) < 1000:\n",
    "        print(len(wav),  vgg_wav_lists[i])"
   ]
  },
  {
   "cell_type": "code",
   "execution_count": 9,
   "metadata": {},
   "outputs": [],
   "source": [
    "yid_dict = {}\n",
    "for id in vgg_audio_lists[:]:\n",
    "    id = id.split(\".\")[0]\n",
    "    if id[:11] not in yid_dict:\n",
    "        yid_dict[id[:11]] = []\n",
    "    yid_dict[id[:11]].append(id)"
   ]
  },
  {
   "cell_type": "code",
   "execution_count": 10,
   "metadata": {},
   "outputs": [
    {
     "name": "stderr",
     "output_type": "stream",
     "text": [
      "100%|██████████| 144209/144209 [00:00<00:00, 2576301.71it/s]\n"
     ]
    }
   ],
   "source": [
    "for wav_name in tqdm(vgg_wav_lists[:]):\n",
    "    if len(wav_name) > 15:\n",
    "        continue\n",
    "    if wav_name[:11] in yid_dict:\n",
    "        os.rename(os.path.join(vgg_wav_path, wav_name), os.path.join(vgg_wav_path, yid_dict[wav_name[:11]][-1]+\".wav\"))"
   ]
  },
  {
   "cell_type": "code",
   "execution_count": 14,
   "metadata": {},
   "outputs": [
    {
     "name": "stdout",
     "output_type": "stream",
     "text": [
      "['---g-f_I2yQ_1000_11000.wav', '--0PQM4-hqg_30000_40000.wav', '--56QUhyDQM_185000_195000.wav', '--8puiAGLhs_30000_40000.wav', '--96EN9NUQM_242000_252000.wav']\n"
     ]
    }
   ],
   "source": [
    "vgg_wav_lists.sort()\n",
    "print(vgg_wav_lists[:5])"
   ]
  },
  {
   "cell_type": "code",
   "execution_count": 15,
   "metadata": {},
   "outputs": [],
   "source": [
    "def flac_to_wav(file_name, save_file_name):\n",
    "    os.system(\"/usr/bin/ffmpeg -y -i\" + \" \" + file_name + \" \" + save_file_name)"
   ]
  },
  {
   "cell_type": "code",
   "execution_count": null,
   "metadata": {},
   "outputs": [],
   "source": []
  },
  {
   "cell_type": "code",
   "execution_count": null,
   "metadata": {},
   "outputs": [],
   "source": []
  },
  {
   "cell_type": "code",
   "execution_count": null,
   "metadata": {},
   "outputs": [],
   "source": []
  },
  {
   "cell_type": "code",
   "execution_count": null,
   "metadata": {},
   "outputs": [],
   "source": [
    "test_wav_path = \"/blob/v-yuancwang/DiffAudioImg/VGGSound/data/vggsound/wav/--8puiAGLhs.wav\"\n",
    "metadata = torchaudio.info(test_wav_path)\n",
    "print(metadata)\n",
    "\n",
    "wav, sr = librosa.load(test_wav_path, sr=16000)\n",
    "print(len(wav), sr)\n",
    "print(wav.shape)\n",
    "wav = torch.FloatTensor(wav)\n",
    "print(wav.unsqueeze(0).shape)\n",
    "x = mel_spectrogram(wav.unsqueeze(0), n_fft=1024, num_mels=80, sampling_rate=16000,\n",
    "                    hop_size=256, win_size=1024, fmin=0, fmax=8000)\n",
    "print(x.shape, x.max(), x.min())\n",
    "print(x)"
   ]
  },
  {
   "cell_type": "code",
   "execution_count": null,
   "metadata": {},
   "outputs": [
    {
     "name": "stdout",
     "output_type": "stream",
     "text": [
      "(80, 625)\n"
     ]
    }
   ],
   "source": [
    "spec = x.cpu().numpy()[0]\n",
    "print(spec.shape)"
   ]
  }
 ],
 "metadata": {
  "kernelspec": {
   "display_name": "control",
   "language": "python",
   "name": "python3"
  },
  "language_info": {
   "codemirror_mode": {
    "name": "ipython",
    "version": 3
   },
   "file_extension": ".py",
   "mimetype": "text/x-python",
   "name": "python",
   "nbconvert_exporter": "python",
   "pygments_lexer": "ipython3",
   "version": "3.8.5"
  },
  "orig_nbformat": 4
 },
 "nbformat": 4,
 "nbformat_minor": 2
}
