{
 "cells": [
  {
   "cell_type": "code",
   "execution_count": 1,
   "metadata": {},
   "outputs": [],
   "source": [
    "import json\n",
    "import os"
   ]
  },
  {
   "cell_type": "code",
   "execution_count": 2,
   "metadata": {},
   "outputs": [],
   "source": [
    "class_10 = [\"playing drum kit\", \"playing electric guitar\", \"toilet flushing\",\n",
    "            \"fireworks banging\", \"driving motorcycle\", \"helicopter\",\n",
    "            \"airplane flyby\", \"dog howling\", \"cat purring\", \"horse clip-clop\"]"
   ]
  },
  {
   "cell_type": "code",
   "execution_count": 15,
   "metadata": {},
   "outputs": [
    {
     "name": "stdout",
     "output_type": "stream",
     "text": [
      "164326\n",
      "[{'image': '2/--DTR0_mIGI_11000_21000_2.jpg', 'conditioning_mel': '--DTR0_mIGI_11000_21000.npy', 'text': 'people battle cry'}, {'image': '2/--DTR0_mIGI_32000_42000_2.jpg', 'conditioning_mel': '--DTR0_mIGI_32000_42000.npy', 'text': 'people battle cry'}]\n"
     ]
    }
   ],
   "source": [
    "with open(\"/home/v-yuancwang/DiffAudioImg/metadata/vgg_train_2.json\", \"r\") as f:\n",
    "    vgg_train_2 = json.load(f)\n",
    "print(len(vgg_train_2))\n",
    "print(vgg_train_2[:2])"
   ]
  },
  {
   "cell_type": "code",
   "execution_count": 17,
   "metadata": {},
   "outputs": [
    {
     "name": "stdout",
     "output_type": "stream",
     "text": [
      "8631\n",
      "{'horse clip-clop': 790, 'playing electric guitar': 937, 'toilet flushing': 834, 'driving motorcycle': 946, 'playing drum kit': 929, 'helicopter': 937, 'fireworks banging': 932, 'airplane flyby': 831, 'cat purring': 735, 'dog howling': 760}\n"
     ]
    }
   ],
   "source": [
    "vgg_10class = []\n",
    "stat = {}\n",
    "for data in vgg_train_2:\n",
    "    if data['text'] in class_10:\n",
    "        vgg_10class.append(data)\n",
    "        if data['text'] not in stat:\n",
    "            stat[data['text']] = 0\n",
    "        stat[data['text']] += 1\n",
    "\n",
    "print(len(vgg_10class))\n",
    "print(stat)\n",
    "with open(\"/home/v-yuancwang/DiffAudioImg/metadata/vgg_10class.json\", \"w\") as f:\n",
    "    json.dump(vgg_10class, fp=f)"
   ]
  }
 ],
 "metadata": {
  "kernelspec": {
   "display_name": "control",
   "language": "python",
   "name": "python3"
  },
  "language_info": {
   "codemirror_mode": {
    "name": "ipython",
    "version": 3
   },
   "file_extension": ".py",
   "mimetype": "text/x-python",
   "name": "python",
   "nbconvert_exporter": "python",
   "pygments_lexer": "ipython3",
   "version": "3.8.5"
  },
  "orig_nbformat": 4
 },
 "nbformat": 4,
 "nbformat_minor": 2
}
