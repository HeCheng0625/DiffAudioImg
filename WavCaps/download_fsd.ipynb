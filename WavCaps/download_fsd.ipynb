{
 "cells": [
  {
   "cell_type": "code",
   "execution_count": 1,
   "metadata": {},
   "outputs": [],
   "source": [
    "import os\n",
    "from shutil import copy\n",
    "import librosa\n",
    "import numpy as np\n",
    "import json\n",
    "import wget\n",
    "import requests\n",
    "from tqdm import tqdm"
   ]
  },
  {
   "cell_type": "code",
   "execution_count": 2,
   "metadata": {},
   "outputs": [
    {
     "name": "stdout",
     "output_type": "stream",
     "text": [
      "222935\n"
     ]
    }
   ],
   "source": [
    "fsd_json_file = \"/blob/v-yuancwang/WavCaps/fsd_final_2s.json\"\n",
    "\n",
    "with open(fsd_json_file, \"r\") as f:\n",
    "    fsd_infos = json.load(f)\n",
    "fsd_infos = fsd_infos['data']\n",
    "print(len(fsd_infos))"
   ]
  },
  {
   "cell_type": "code",
   "execution_count": 3,
   "metadata": {},
   "outputs": [
    {
     "name": "stdout",
     "output_type": "stream",
     "text": [
      "222935\n",
      "{'id': '180913', 'file_name': 'UK Mello.wav', 'download_link': 'https://freesound.org/people/Tempouser/sounds/180913/download/180913__tempouser__uk-mello.wav', 'caption': 'A traditional ringtone is playing.', 'duration': 3.204375}\n",
      "{'id': '177462', 'file_name': 'Squeal BEEP!!!.flac', 'download_link': 'https://freesound.org/people/pio5/sounds/177462/download/177462__pio5__squeal-beep.flac', 'caption': 'A squeal is beeping.', 'duration': 50.0}\n",
      "{'id': '176413', 'file_name': '3 in 1.aif', 'download_link': 'https://freesound.org/people/dnforbes/sounds/176413/download/176413__dnforbes__3-in-1.aiff', 'caption': 'Scraping the top of a bottle top.', 'duration': 15.99840625}\n",
      "{'id': '178401', 'file_name': 'muffled flush.mp3', 'download_link': 'https://freesound.org/people/genel/sounds/178401/download/178401__genel__muffled-flush.mp3', 'caption': 'A sound is being recorded in a bathroom.', 'duration': 23.871875}\n",
      "{'id': '177756', 'file_name': 'Thailand young children playing loudly in Bangkok hotel hallway before being brought in room. neighbour comes out to complain seconds later.flac', 'download_link': 'https://freesound.org/people/kyles/sounds/177756/download/177756__kyles__thailand-young-children-playing-loudly-in-bangkok-hotel-hallway-before-being-brought-in-room-neighbour-comes-out-to-complain-seconds-later.flac', 'caption': 'Children are playing loudly in a hotel hallway.', 'duration': 47.6309375}\n"
     ]
    }
   ],
   "source": [
    "fsd_infos_simple = []\n",
    "for info in fsd_infos:\n",
    "    fsd_infos_simple.append({\"id\": info[\"id\"], \"file_name\": info[\"file_name\"],\n",
    "                             \"download_link\": info[\"download_link\"],\n",
    "                             \"caption\": info[\"caption\"],\n",
    "                             \"duration\": info[\"duration\"]})\n",
    "print(len(fsd_infos_simple))\n",
    "for info in fsd_infos_simple[:5]:\n",
    "    print(info)"
   ]
  },
  {
   "cell_type": "code",
   "execution_count": 4,
   "metadata": {},
   "outputs": [
    {
     "name": "stdout",
     "output_type": "stream",
     "text": [
      "40966 10231\n"
     ]
    }
   ],
   "source": [
    "save_path = \"/blob/v-yuancwang/WavCaps/FreeSound/wav_origin\"\n",
    "fsd50k_dev_path = \"/blob/v-yuancwang/FSD50K/FSD50K.dev_audio\"\n",
    "fsd50k_eval_path = \"/blob/v-yuancwang/FSD50K/FSD50K.eval_audio\"\n",
    "fsd50k_eval_ids = os.listdir(fsd50k_eval_path)\n",
    "fsd50k_dev_ids = os.listdir(fsd50k_dev_path)\n",
    "print(len(fsd50k_dev_ids), len(fsd50k_eval_ids))\n"
   ]
  },
  {
   "cell_type": "code",
   "execution_count": 6,
   "metadata": {},
   "outputs": [
    {
     "name": "stdout",
     "output_type": "stream",
     "text": [
      "25689\n"
     ]
    }
   ],
   "source": [
    "save_path = \"/blob/v-yuancwang/WavCaps/FreeSound/wav_origin\"\n",
    "saved_set = set(os.listdir(save_path))\n",
    "print(len(saved_set))"
   ]
  },
  {
   "cell_type": "code",
   "execution_count": 7,
   "metadata": {},
   "outputs": [
    {
     "name": "stderr",
     "output_type": "stream",
     "text": [
      "100%|██████████| 222935/222935 [02:56<00:00, 1263.59it/s]"
     ]
    },
    {
     "name": "stdout",
     "output_type": "stream",
     "text": [
      "25689\n"
     ]
    },
    {
     "name": "stderr",
     "output_type": "stream",
     "text": [
      "\n"
     ]
    }
   ],
   "source": [
    "total_num = len(saved_set)\n",
    "for info in tqdm(fsd_infos_simple[:]):\n",
    "    wav_id = info[\"id\"]\n",
    "    if wav_id + \".wav\" in saved_set:\n",
    "        continue\n",
    "    if wav_id + \".wav\" in fsd50k_dev_ids:\n",
    "        copy(os.path.join(fsd50k_dev_path, wav_id + \".wav\"), os.path.join(save_path, wav_id + \".wav\"))\n",
    "        total_num += 1\n",
    "    if wav_id + \".wav\" in fsd50k_eval_ids:\n",
    "        copy(os.path.join(fsd50k_eval_path, wav_id + \".wav\"), os.path.join(save_path, wav_id + \".wav\"))\n",
    "        total_num += 1\n",
    "print(len(saved_set))"
   ]
  }
 ],
 "metadata": {
  "kernelspec": {
   "display_name": "control",
   "language": "python",
   "name": "python3"
  },
  "language_info": {
   "codemirror_mode": {
    "name": "ipython",
    "version": 3
   },
   "file_extension": ".py",
   "mimetype": "text/x-python",
   "name": "python",
   "nbconvert_exporter": "python",
   "pygments_lexer": "ipython3",
   "version": "3.8.5"
  },
  "orig_nbformat": 4
 },
 "nbformat": 4,
 "nbformat_minor": 2
}
