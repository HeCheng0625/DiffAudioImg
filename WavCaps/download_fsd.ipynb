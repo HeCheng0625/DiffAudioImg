{
 "cells": [
  {
   "cell_type": "code",
   "execution_count": 1,
   "metadata": {},
   "outputs": [],
   "source": [
    "import os\n",
    "from shutil import copy\n",
    "import librosa\n",
    "import numpy as np\n",
    "import json\n",
    "import wget\n",
    "import requests\n",
    "from tqdm import tqdm"
   ]
  },
  {
   "cell_type": "code",
   "execution_count": null,
   "metadata": {},
   "outputs": [],
   "source": [
    "fsd_json_file = \"/blob/v-yuancwang/WavCaps/fsd_final_2s.json\"\n",
    "\n",
    "with open(fsd_json_file, \"r\") as f:\n",
    "    fsd_infos = json.load(f)\n",
    "fsd_infos = fsd_infos['data']\n",
    "print(len(fsd_infos))"
   ]
  },
  {
   "cell_type": "code",
   "execution_count": null,
   "metadata": {},
   "outputs": [],
   "source": [
    "fsd_infos_simple = []\n",
    "for info in fsd_infos:\n",
    "    fsd_infos_simple.append({\"id\": info[\"id\"], \"file_name\": info[\"file_name\"],\n",
    "                             \"download_link\": info[\"download_link\"],\n",
    "                             \"caption\": info[\"caption\"],\n",
    "                             \"duration\": info[\"duration\"]})\n",
    "print(len(fsd_infos_simple))\n",
    "for info in fsd_infos_simple[:5]:\n",
    "    print(info)"
   ]
  },
  {
   "cell_type": "code",
   "execution_count": 10,
   "metadata": {},
   "outputs": [
    {
     "name": "stdout",
     "output_type": "stream",
     "text": [
      "40966 10231\n"
     ]
    }
   ],
   "source": [
    "save_path = \"/blob/v-yuancwang/WavCaps/FreeSound/wav_origin\"\n",
    "fsd50k_dev_path = \"/blob/v-yuancwang/FSD50K/FSD50K.dev_audio\"\n",
    "fsd50k_eval_path = \"/blob/v-yuancwang/FSD50K/FSD50K.eval_audio\"\n",
    "fsd50k_eval_ids = os.listdir(fsd50k_eval_path)\n",
    "fsd50k_dev_ids = os.listdir(fsd50k_dev_path)\n",
    "print(len(fsd50k_dev_ids), len(fsd50k_eval_ids))\n"
   ]
  },
  {
   "cell_type": "code",
   "execution_count": 12,
   "metadata": {},
   "outputs": [],
   "source": [
    "save_path = \"/blob/v-yuancwang/WavCaps/FreeSound/wav_origin\""
   ]
  },
  {
   "cell_type": "code",
   "execution_count": null,
   "metadata": {},
   "outputs": [],
   "source": [
    "total_num = 0\n",
    "for info in tqdm(fsd_infos_simple[:]):\n",
    "    wav_id = info[\"id\"]\n",
    "    if wav_id + \".wav\" in fsd50k_dev_ids:\n",
    "        # print(wav_id + \".wav\")\n",
    "        # print(info[\"caption\"])\n",
    "        copy(os.path.join(fsd50k_dev_path, wav_id + \".wav\"), os.path.join(save_path, wav_id + \".wav\"))\n",
    "        total_num += 1\n",
    "    if wav_id + \".wav\" in fsd50k_eval_ids:\n",
    "        # print(wav_id + \".wav\")\n",
    "        # print(info[\"caption\"])\n",
    "        copy(os.path.join(fsd50k_eval_path, wav_id + \".wav\"), os.path.join(save_path, wav_id + \".wav\"))\n",
    "        total_num += 1\n",
    "print(total_num)"
   ]
  }
 ],
 "metadata": {
  "kernelspec": {
   "display_name": "control",
   "language": "python",
   "name": "python3"
  },
  "language_info": {
   "codemirror_mode": {
    "name": "ipython",
    "version": 3
   },
   "file_extension": ".py",
   "mimetype": "text/x-python",
   "name": "python",
   "nbconvert_exporter": "python",
   "pygments_lexer": "ipython3",
   "version": "3.8.5"
  },
  "orig_nbformat": 4
 },
 "nbformat": 4,
 "nbformat_minor": 2
}
