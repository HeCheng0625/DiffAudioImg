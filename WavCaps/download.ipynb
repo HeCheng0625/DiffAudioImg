{
 "cells": [
  {
   "cell_type": "code",
   "execution_count": 6,
   "metadata": {},
   "outputs": [],
   "source": [
    "import os\n",
    "from shutil import copy\n",
    "import librosa\n",
    "import numpy as np\n",
    "import json\n",
    "import wget\n",
    "import requests\n",
    "from tqdm import tqdm"
   ]
  },
  {
   "cell_type": "code",
   "execution_count": 2,
   "metadata": {},
   "outputs": [
    {
     "name": "stdout",
     "output_type": "stream",
     "text": [
      "1232\n",
      "[{'title': 'Airplane Landing Airport', 'description': 'Large commercial airplane landing at an airport runway.', 'author': 'Daniel Simion', 'href': '2219-Airplane-Landing-Airport.html', 'caption': 'An airplane is landing.', 'id': '2219', 'duration': 14.1424375, 'audio': 'wav_path', 'download_link': 'http://soundbible.com/grab.php?id=2219&type=wav'}, {'title': 'Service Bell Help', 'description': 'Customer ringing service bell in need of help in a store.', 'author': 'Daniel Simion', 'href': '2218-Service-Bell-Help.html', 'caption': 'Someone is ringing a bell.', 'id': '2218', 'duration': 1.5698125, 'audio': 'wav_path', 'download_link': 'http://soundbible.com/grab.php?id=2218&type=wav'}, {'title': 'Heavy Rain Wind', 'description': 'Super heavy rainstorm and wind pouring down.', 'author': 'Daniel Simion', 'href': '2217-Heavy-Rain-Wind.html', 'caption': 'It is raining heavily and windy.', 'id': '2217', 'duration': 86.42671875, 'audio': 'wav_path', 'download_link': 'http://soundbible.com/grab.php?id=2217&type=wav'}, {'title': 'Labrador Barking Dog', 'description': 'Large dog, breed labrador retriever, barking for 20 seconds. Large and deep barking troll your dog today!.', 'author': 'Daniel Simion', 'href': '2215-Labrador-Barking-Dog.html', 'caption': 'A dog is barking.', 'id': '2215', 'duration': 21.4625625, 'audio': 'wav_path', 'download_link': 'http://soundbible.com/grab.php?id=2215&type=wav'}, {'title': 'Old Car Starting', 'description': 'Old car engine starting up slowly and running. Very old model t car.', 'author': 'Daniel Simion', 'href': '2214-Old-Car-Starting.html', 'caption': \"An old car's engine is starting and running.\", 'id': '2214', 'duration': 20.41984375, 'audio': 'wav_path', 'download_link': 'http://soundbible.com/grab.php?id=2214&type=wav'}]\n"
     ]
    }
   ],
   "source": [
    "soundbible_json_file = \"/home/v-yuancwang/DiffAudioImg/WavCaps/data/json_files/SoundBible/sb_final.json\"\n",
    "with open(soundbible_json_file, \"r\") as f:\n",
    "    soundbible_infos = json.load(f)\n",
    "soundbible_infos = soundbible_infos['data']\n",
    "print(len(soundbible_infos))\n",
    "print(soundbible_infos[:5])"
   ]
  },
  {
   "cell_type": "code",
   "execution_count": 3,
   "metadata": {},
   "outputs": [],
   "source": [
    "save_path = \"/blob/v-yuancwang/WavCaps/SoundBible/wav_origin\""
   ]
  },
  {
   "cell_type": "code",
   "execution_count": 11,
   "metadata": {},
   "outputs": [
    {
     "name": "stderr",
     "output_type": "stream",
     "text": [
      "100%|██████████| 1132/1132 [18:58<00:00,  1.01s/it]\n"
     ]
    }
   ],
   "source": [
    "for info in tqdm(soundbible_infos[100:]):\n",
    "    url = info[\"download_link\"]\n",
    "    id = info['id']\n",
    "    try:\n",
    "        myfile = requests.get(url)\n",
    "        open(os.path.join(save_path, id+\".wav\"), 'wb').write(myfile.content)\n",
    "    except:\n",
    "        continue"
   ]
  }
 ],
 "metadata": {
  "kernelspec": {
   "display_name": "control",
   "language": "python",
   "name": "python3"
  },
  "language_info": {
   "codemirror_mode": {
    "name": "ipython",
    "version": 3
   },
   "file_extension": ".py",
   "mimetype": "text/x-python",
   "name": "python",
   "nbconvert_exporter": "python",
   "pygments_lexer": "ipython3",
   "version": "3.8.5"
  },
  "orig_nbformat": 4
 },
 "nbformat": 4,
 "nbformat_minor": 2
}
